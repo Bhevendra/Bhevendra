{
  "nbformat": 4,
  "nbformat_minor": 0,
  "metadata": {
    "colab": {
      "provenance": [],
      "authorship_tag": "ABX9TyOpquKQvgaszcbQOiDWlYfk",
      "include_colab_link": true
    },
    "kernelspec": {
      "name": "python3",
      "display_name": "Python 3"
    },
    "language_info": {
      "name": "python"
    }
  },
  "cells": [
    {
      "cell_type": "markdown",
      "metadata": {
        "id": "view-in-github",
        "colab_type": "text"
      },
      "source": [
        "<a href=\"https://colab.research.google.com/github/Bhevendra/Bhevendra/blob/main/Task_2_API.ipynb\" target=\"_parent\"><img src=\"https://colab.research.google.com/assets/colab-badge.svg\" alt=\"Open In Colab\"/></a>"
      ]
    },
    {
      "cell_type": "code",
      "execution_count": 2,
      "metadata": {
        "colab": {
          "base_uri": "https://localhost:8080/"
        },
        "id": "p2QBqMbJcwLC",
        "outputId": "2c38f94b-acde-4eb7-bd44-b4953c6de1a3"
      },
      "outputs": [
        {
          "output_type": "stream",
          "name": "stdout",
          "text": [
            "Please Enter the Name of companyhs2\n",
            "{'items': [{'company_status': 'active', 'matches': {'snippet': [], 'title': [1, 3]}, 'address': {'locality': 'London', 'country': 'England', 'premises': 'Group Property / Corporate Finance Great Minster House', 'address_line_1': '33 Horseferry Road', 'postal_code': 'SW1P 4DR'}, 'description_identifier': ['incorporated-on'], 'company_number': '07963188', 'title': 'HS2 LTD', 'date_of_creation': '2012-02-24', 'description': '07963188 - Incorporated on 24 February 2012', 'snippet': '', 'address_snippet': 'Group Property / Corporate Finance Great Minster House, 33 Horseferry Road, London, England, SW1P 4DR', 'links': {'self': '/company/07963188'}, 'kind': 'searchresults#company', 'company_type': 'ltd'}, {'date_of_cessation': '2011-04-26', 'company_status': 'dissolved', 'matches': {'title': [1, 3], 'snippet': []}, 'address': {'postal_code': 'SW14 7NY', 'premises': 'Garden Cottage One 16 Sheen Gate', 'address_line_1': 'Gardens East Sheen', 'locality': 'London'}, 'description_identifier': ['dissolved-on'], 'company_number': '05800643', 'title': 'HS2 LTD', 'date_of_creation': '2006-04-28', 'description': '05800643 - Dissolved on 26 April 2011', 'snippet': '', 'address_snippet': 'Garden Cottage One 16 Sheen Gate Gardens East Sheen, London, SW14 7NY', 'links': {'self': '/company/05800643'}, 'company_type': 'ltd', 'kind': 'searchresults#company'}, {'kind': 'searchresults#company', 'company_type': 'ltd', 'address_snippet': 'Suite 4 34a Waterloo Road, London, Greater London, United Kingdom, NW2 7UH', 'links': {'self': '/company/14115073'}, 'description': '14115073 - Incorporated on 18 May 2022', 'snippet': 'HS2 CONSULTING ', 'title': 'DIGITAL TWIN SURVEYS LIMITED', 'date_of_creation': '2022-05-18', 'company_number': '14115073', 'address': {'postal_code': 'NW2 7UH', 'premises': 'Suite 4', 'address_line_1': '34a Waterloo Road', 'country': 'United Kingdom', 'region': 'Greater London', 'locality': 'London'}, 'description_identifier': ['incorporated-on'], 'company_status': 'active', 'matches': {'snippet': [1, 3]}}, {'date_of_creation': '2010-04-19', 'title': 'HS2 ACTION ALLIANCE LIMITED', 'snippet': '', 'description': '07227882 - Dissolved on 27 December 2022', 'links': {'self': '/company/07227882'}, 'address_snippet': 'The Red House, 10 Market Square, Old Amersham, Buckinghamshire, HP7 0DQ', 'company_type': 'private-limited-guarant-nsc', 'kind': 'searchresults#company', 'company_status': 'dissolved', 'matches': {'title': [1, 3], 'snippet': []}, 'date_of_cessation': '2022-12-27', 'description_identifier': ['dissolved-on'], 'address': {'address_line_1': '10 Market Square', 'premises': 'The Red House', 'postal_code': 'HP7 0DQ', 'locality': 'Old Amersham', 'region': 'Buckinghamshire'}, 'company_number': '07227882'}, {'company_status': 'active', 'matches': {'snippet': [], 'title': [1, 3]}, 'description_identifier': ['incorporated-on'], 'address': {'address_line_1': 'Connaught Avenue', 'premises': '2a', 'postal_code': 'E4 7AA', 'locality': 'London', 'address_line_2': 'Chingford', 'country': 'United Kingdom'}, 'company_number': '14226813', 'date_of_creation': '2022-07-11', 'title': 'HS2 COMMERCIAL LTD', 'snippet': '', 'description': '14226813 - Incorporated on 11 July 2022', 'links': {'self': '/company/14226813'}, 'address_snippet': '2a Connaught Avenue, Chingford, London, United Kingdom, E4 7AA', 'kind': 'searchresults#company', 'company_type': 'ltd'}, {'kind': 'searchresults#company', 'company_type': 'ltd', 'address_snippet': 'The Toll House, 115 High Street, Smethwick, West Midlands, United Kingdom, B66 1AA', 'links': {'self': '/company/12927726'}, 'description': '12927726 - Incorporated on  5 October 2020', 'snippet': '', 'title': 'HS2 COMPUTERS LTD', 'date_of_creation': '2020-10-05', 'company_number': '12927726', 'address': {'region': 'West Midlands', 'locality': 'Smethwick', 'country': 'United Kingdom', 'premises': 'The Toll House', 'address_line_1': '115 High Street', 'postal_code': 'B66 1AA'}, 'description_identifier': ['incorporated-on'], 'company_status': 'active', 'matches': {'title': [1, 3], 'snippet': []}}, {'description_identifier': ['incorporated-on'], 'address': {'premises': 'The Toll House, 115 High Street', 'postal_code': 'B66 1AA', 'locality': 'Smethwick', 'country': 'United Kingdom'}, 'company_status': 'active', 'matches': {'title': [1, 3], 'snippet': []}, 'company_number': '12981876', 'snippet': '', 'description': '12981876 - Incorporated on 28 October 2020', 'date_of_creation': '2020-10-28', 'title': 'HS2 CONSTRUCTION LTD', 'kind': 'searchresults#company', 'company_type': 'ltd', 'links': {'self': '/company/12981876'}, 'address_snippet': 'The Toll House, 115 High Street, Smethwick, United Kingdom, B66 1AA'}, {'description_identifier': ['incorporated-on'], 'address': {'locality': 'Bradford', 'country': 'England', 'premises': '49', 'address_line_1': 'Grantham Road', 'postal_code': 'BD7 1RN'}, 'matches': {'snippet': [], 'title': [1, 3]}, 'company_status': 'active', 'company_number': '12072028', 'snippet': '', 'description': '12072028 - Incorporated on 26 June 2019', 'date_of_creation': '2019-06-26', 'title': 'HS2 COURIERS LTD', 'company_type': 'ltd', 'kind': 'searchresults#company', 'links': {'self': '/company/12072028'}, 'address_snippet': '49 Grantham Road, Bradford, England, BD7 1RN'}, {'company_type': 'ltd', 'kind': 'searchresults#company', 'links': {'self': '/company/14245939'}, 'address_snippet': '2a Connaught Avenue, Chingford, London, United Kingdom, E4 7AA', 'snippet': '', 'description': '14245939 - Incorporated on 20 July 2022', 'date_of_creation': '2022-07-20', 'title': 'HS2 CREWE LTD', 'company_number': '14245939', 'description_identifier': ['incorporated-on'], 'address': {'address_line_2': 'Chingford', 'locality': 'London', 'country': 'United Kingdom', 'address_line_1': 'Connaught Avenue', 'premises': '2a', 'postal_code': 'E4 7AA'}, 'company_status': 'active', 'matches': {'title': [1, 3], 'snippet': []}}, {'description': '03569293 - Incorporated on 22 May 1998', 'snippet': '', 'title': 'HS2 DATABASE MARKETING LIMITED', 'date_of_creation': '1998-05-22', 'kind': 'searchresults#company', 'company_type': 'ltd', 'address_snippet': '71-75 Shelton Street, London, England, WC2H 9JQ', 'links': {'self': '/company/03569293'}, 'address': {'postal_code': 'WC2H 9JQ', 'premises': '71-75', 'address_line_1': 'Shelton Street', 'country': 'England', 'locality': 'London'}, 'description_identifier': ['incorporated-on'], 'company_status': 'active', 'matches': {'snippet': [], 'title': [1, 3]}, 'company_number': '03569293'}, {'title': 'HS2 EXECUTIVE CARS LTD', 'date_of_creation': '2021-06-07', 'description': '13443363 - Incorporated on  7 June 2021', 'snippet': '', 'address_snippet': '12 Carisbrooke Avenue, Birmingham, England, B37 7SG', 'links': {'self': '/company/13443363'}, 'kind': 'searchresults#company', 'company_type': 'ltd', 'matches': {'snippet': [], 'title': [1, 3]}, 'company_status': 'active', 'address': {'postal_code': 'B37 7SG', 'address_line_1': 'Carisbrooke Avenue', 'premises': '12', 'country': 'England', 'locality': 'Birmingham'}, 'description_identifier': ['incorporated-on'], 'company_number': '13443363'}, {'company_number': '13441868', 'company_status': 'active', 'matches': {'snippet': [], 'title': [1, 3]}, 'address': {'premises': '12', 'address_line_1': 'Carisbrooke Avenue', 'postal_code': 'B37 7SG', 'locality': 'Birmingham', 'country': 'England'}, 'description_identifier': ['incorporated-on'], 'address_snippet': '12 Carisbrooke Avenue, Birmingham, England, B37 7SG', 'links': {'self': '/company/13441868'}, 'kind': 'searchresults#company', 'company_type': 'ltd', 'title': 'HS2 EXECUTIVE TRAVEL LTD', 'date_of_creation': '2021-06-07', 'description': '13441868 - Incorporated on  7 June 2021', 'snippet': ''}, {'company_number': '12179594', 'address': {'address_line_1': 'Alwold Road', 'premises': '239', 'postal_code': 'B29 5JA', 'locality': 'Birmingham', 'country': 'United Kingdom'}, 'description_identifier': ['incorporated-on'], 'matches': {'snippet': [], 'title': [1, 3]}, 'company_status': 'active', 'kind': 'searchresults#company', 'company_type': 'ltd', 'address_snippet': '239 Alwold Road, Birmingham, United Kingdom, B29 5JA', 'links': {'self': '/company/12179594'}, 'description': '12179594 - Incorporated on 29 August 2019', 'snippet': '', 'title': 'HS2 HOUSING LTD', 'date_of_creation': '2019-08-29'}, {'company_number': '13176865', 'date_of_cessation': '2023-08-15', 'company_status': 'dissolved', 'matches': {'title': [1, 3], 'snippet': []}, 'address': {'country': 'England', 'locality': 'Market Drayton', 'postal_code': 'TF9 3AU', 'premises': '41', 'address_line_1': 'Frogmore Road'}, 'description_identifier': ['dissolved-on'], 'address_snippet': '41 Frogmore Road, Market Drayton, England, TF9 3AU', 'links': {'self': '/company/13176865'}, 'company_type': 'ltd', 'kind': 'searchresults#company', 'title': 'HS2 INFORMATION LTD', 'date_of_creation': '2021-02-03', 'description': '13176865 - Dissolved on 15 August 2023', 'snippet': ''}, {'description_identifier': ['incorporated-on'], 'address': {'locality': 'Smethwick', 'country': 'United Kingdom', 'premises': 'The Toll House, 115 High Street', 'postal_code': 'B66 1AA'}, 'company_status': 'active', 'matches': {'snippet': [], 'title': [1, 3]}, 'company_number': '13034614', 'snippet': '', 'description': '13034614 - Incorporated on 20 November 2020', 'date_of_creation': '2020-11-20', 'title': 'HS2 IT LTD', 'company_type': 'ltd', 'kind': 'searchresults#company', 'links': {'self': '/company/13034614'}, 'address_snippet': 'The Toll House, 115 High Street, Smethwick, United Kingdom, B66 1AA'}, {'company_number': '11681979', 'date_of_cessation': '2023-07-03', 'company_status': 'dissolved', 'matches': {'title': [1, 3], 'snippet': []}, 'address': {'postal_code': 'NR2 1AD', 'address_line_1': '5 St Andrews Hill', 'premises': 'Lawrence House', 'locality': 'Norwich', 'region': 'Norfolk'}, 'description_identifier': ['dissolved-on'], 'address_snippet': 'Lawrence House, 5 St Andrews Hill, Norwich, Norfolk, NR2 1AD', 'links': {'self': '/company/11681979'}, 'company_type': 'ltd', 'kind': 'searchresults#company', 'title': 'HS2 MOTORS LTD', 'date_of_creation': '2018-11-16', 'description': '11681979 - Dissolved on  3 July 2023', 'snippet': ''}, {'kind': 'searchresults#company', 'company_type': 'ltd', 'address_snippet': '82 Holyhead Road, Birmingham, England, B21 0LH', 'links': {'self': '/company/13298266'}, 'description': '13298266 - Incorporated on 29 March 2021', 'snippet': '', 'title': 'HS2 PROPERTIES LIMITED', 'date_of_creation': '2021-03-29', 'company_number': '13298266', 'address': {'postal_code': 'B21 0LH', 'address_line_1': 'Holyhead Road', 'premises': '82', 'country': 'England', 'locality': 'Birmingham'}, 'description_identifier': ['incorporated-on'], 'matches': {'title': [1, 3], 'snippet': []}, 'company_status': 'active'}, {'company_status': 'active', 'matches': {'title': [1, 3], 'snippet': []}, 'address': {'country': 'United Kingdom', 'locality': 'Crewe', 'region': 'Cheshire', 'postal_code': 'CW1 6EA', 'address_line_1': 'Macon Court', 'premises': '7-9'}, 'description_identifier': ['incorporated-on'], 'company_number': '10476728', 'title': 'HS2 PROPERTY LIMITED', 'date_of_creation': '2016-11-14', 'description': '10476728 - Incorporated on 14 November 2016', 'snippet': '', 'address_snippet': '7-9 Macon Court, Crewe, Cheshire, United Kingdom, CW1 6EA', 'links': {'self': '/company/10476728'}, 'company_type': 'ltd', 'kind': 'searchresults#company'}, {'snippet': '', 'description': '12883769 - Incorporated on 16 September 2020', 'date_of_creation': '2020-09-16', 'title': 'HS2 SOLUTIONS LTD', 'kind': 'searchresults#company', 'company_type': 'ltd', 'links': {'self': '/company/12883769'}, 'address_snippet': 'The Toll House, 115 High Street, Smethwick, West Midlands, United Kingdom, B66 1AA', 'description_identifier': ['incorporated-on'], 'address': {'country': 'United Kingdom', 'region': 'West Midlands', 'locality': 'Smethwick', 'postal_code': 'B66 1AA', 'premises': 'The Toll House', 'address_line_1': '115 High Street'}, 'company_status': 'active', 'matches': {'snippet': [], 'title': [1, 3]}, 'company_number': '12883769'}, {'kind': 'searchresults#company', 'company_type': 'ltd', 'links': {'self': '/company/12966668'}, 'address_snippet': 'The Toll House, 115 High Street, Smethwick, West Midlands, United Kingdom, B66 1AA', 'snippet': '', 'description': '12966668 - Incorporated on 21 October 2020', 'date_of_creation': '2020-10-21', 'title': 'HS2 SYSTEMS LTD', 'company_number': '12966668', 'description_identifier': ['incorporated-on'], 'address': {'country': 'United Kingdom', 'region': 'West Midlands', 'locality': 'Smethwick', 'postal_code': 'B66 1AA', 'premises': 'The Toll House, 115 High Street'}, 'matches': {'snippet': [], 'title': [1, 3]}, 'company_status': 'active'}], 'page_number': 1, 'start_index': 0, 'items_per_page': 20, 'kind': 'search#all', 'total_results': 117}\n",
            "                      Company Name Company Number\n",
            "0                          HS2 LTD       07963188\n",
            "1                          HS2 LTD       05800643\n",
            "2     DIGITAL TWIN SURVEYS LIMITED       14115073\n",
            "3      HS2 ACTION ALLIANCE LIMITED       07227882\n",
            "4               HS2 COMMERCIAL LTD       14226813\n",
            "5                HS2 COMPUTERS LTD       12927726\n",
            "6             HS2 CONSTRUCTION LTD       12981876\n",
            "7                 HS2 COURIERS LTD       12072028\n",
            "8                    HS2 CREWE LTD       14245939\n",
            "9   HS2 DATABASE MARKETING LIMITED       03569293\n",
            "10          HS2 EXECUTIVE CARS LTD       13443363\n",
            "11        HS2 EXECUTIVE TRAVEL LTD       13441868\n",
            "12                 HS2 HOUSING LTD       12179594\n",
            "13             HS2 INFORMATION LTD       13176865\n",
            "14                      HS2 IT LTD       13034614\n",
            "15                  HS2 MOTORS LTD       11681979\n",
            "16          HS2 PROPERTIES LIMITED       13298266\n",
            "17            HS2 PROPERTY LIMITED       10476728\n",
            "18               HS2 SOLUTIONS LTD       12883769\n",
            "19                 HS2 SYSTEMS LTD       12966668\n",
            "Ask for the index?1\n",
            "05800643\n",
            "Employee data for hs2: {'kind': 'officer-list', 'etag': '5625252411d53f7e3023b2788a0addcd763ac4d2', 'total_results': 4, 'items': [{'name': 'CRANE, Edward', 'appointed_on': '2006-04-28', 'nationality': 'British', 'country_of_residence': 'England', 'officer_role': 'director', 'date_of_birth': {'year': 1973, 'month': 4}, 'occupation': 'Director', 'address': {'address_line_2': '16 Sheen Gate Gardens East Sheen', 'postal_code': 'SW14 7NY', 'address_line_1': 'One', 'locality': 'London', 'premises': 'Garden Cottage'}, 'links': {'self': '/company/05800643/appointments/djN8lGyI1qGBjAnLXOMKdZk9dc0', 'officer': {'appointments': '/officers/m3P_fI6zHs9XtVOV3LAmn2mJWnc/appointments'}}}, {'resigned_on': '2007-04-02', 'officer_role': 'secretary', 'name': 'GILLESPIE, Scott', 'appointed_on': '2006-04-28', 'nationality': 'British', 'address': {'postal_code': 'RG30 2SZ', 'region': 'Berkshire', 'locality': 'Reading', 'address_line_1': '21a Kensington Road'}, 'links': {'officer': {'appointments': '/officers/l5266Sg5yDtAKrxxuCGgjVYk140/appointments'}, 'self': '/company/05800643/appointments/x4ZCfLwSCBEXQk6ptZZ9aOoXlnw'}}, {'country_of_residence': 'England', 'officer_role': 'director', 'date_of_birth': {'month': 5, 'year': 1959}, 'links': {'officer': {'appointments': '/officers/lQzHp59wrcwsOMXiJzZSja7N49w/appointments'}, 'self': '/company/05800643/appointments/K8QpobZKNdhjFWL6sJqul8vtfRw'}, 'address': {'postal_code': 'SO31 6NW', 'region': 'Hampshire', 'locality': 'Southampton', 'address_line_1': '37, Monterey Drive,', 'address_line_2': 'Hailsham Place, Locks Heath'}, 'occupation': 'Consultant', 'resigned_on': '2008-01-03', 'name': 'BEEBY, Rupert Stuart', 'appointed_on': '2007-04-04', 'nationality': 'British'}, {'resigned_on': '2008-01-03', 'nationality': 'British/New Zealand', 'appointed_on': '2007-04-04', 'name': 'TUCK, Malcolm Robert', 'officer_role': 'director', 'occupation': 'It Manager', 'address': {'address_line_2': 'Spencers Wood', 'address_line_1': '1 Jordan Close', 'locality': 'Reading', 'postal_code': 'RG7 1BT', 'region': 'Berkshire'}, 'links': {'self': '/company/05800643/appointments/jEuFMVwGxqZUDXj-aF-Dle_JzKU', 'officer': {'appointments': '/officers/knE53XPTUqy3eP0gls9-Z7EGz8g/appointments'}}, 'date_of_birth': {'year': 1960, 'month': 8}}], 'active_count': 0, 'links': {'self': '/company/05800643/officers'}, 'inactive_count': 1, 'items_per_page': 35, 'resigned_count': 3, 'start_index': 0}\n",
            "                   name  month    year\n",
            "0         CRANE, Edward    4.0  1973.0\n",
            "1      GILLESPIE, Scott    NaN     NaN\n",
            "2  BEEBY, Rupert Stuart    5.0  1959.0\n",
            "3  TUCK, Malcolm Robert    8.0  1960.0\n"
          ]
        }
      ],
      "source": [
        "import requests\n",
        "import json\n",
        "import pandas as pd\n",
        "\n",
        "\n",
        "API_AUTHENTICATION_KEY = \"3c1145cd-76a8-4a76-95f8-4bfb1149217c\"\n",
        "\n",
        "def getCompanySearch(companyNumOrName):\n",
        "\n",
        "    companyNumOrName.replace(\" \", \"+\")\n",
        "    base_url = f\"https://api.company-information.service.gov.uk/search?q={companyNumOrName}\"\n",
        "\n",
        "    try:\n",
        "        response = requests.get(base_url, auth=(API_AUTHENTICATION_KEY, ''))\n",
        "        # Check if the request was successful (status code 200)\n",
        "        if response.status_code == 200:\n",
        "            # Assuming the response is in JSON format\n",
        "            companySearchResult = response.json()\n",
        "            return companySearchResult\n",
        "        else:\n",
        "            print(f\"Error: {response.status_code} - {response.text}\")\n",
        "    except requests.exceptions.RequestException as e:\n",
        "        print(f\"Error: {e}\")\n",
        "\n",
        "\n",
        "\n",
        "def get_employee_data(companyNumber):\n",
        "\n",
        "\n",
        "    try:\n",
        "\n",
        "        base_url = f\"https://api.company-information.service.gov.uk/company/{companyNumber}/officers\"\n",
        "\n",
        "\n",
        "        response = requests.get(base_url, auth=(API_AUTHENTICATION_KEY, ''))\n",
        "\n",
        "        # Check if the request was successful (status code 200)\n",
        "        if response.status_code == 200:\n",
        "            # Assuming the response is in JSON format\n",
        "            employee_data = response.json()\n",
        "\n",
        "            return employee_data\n",
        "        else:\n",
        "            print(f\"Error: {response.status_code} - {response.text}\")\n",
        "    except requests.exceptions.RequestException as e:\n",
        "        print(f\"Error: {e}\")\n",
        "\n",
        "if __name__ == \"__main__\":\n",
        "\n",
        "    employee_number = input(\"Please Enter the Name of company\")\n",
        "    companySearchResponse = getCompanySearch(employee_number)\n",
        "\n",
        "    print(companySearchResponse)\n",
        "\n",
        "    companyList = []\n",
        "    for item in companySearchResponse['items']:\n",
        "        companyDict = {}\n",
        "\n",
        "        companyDict['Company Name'] = item[\"title\"]\n",
        "        if 'company_number' in item:\n",
        "            companyDict['Company Number'] = item['company_number']\n",
        "        companyList.append(companyDict)\n",
        "\n",
        "    companyDf = pd.DataFrame(companyList)\n",
        "    print(companyDf)\n",
        "    userInput = input('Ask for the index?')\n",
        "\n",
        "    companyNumber = companyDf.iloc[int(userInput),1]\n",
        "\n",
        "\n",
        "    print(companyNumber)\n",
        "\n",
        "    employee_data_by_number = get_employee_data(companyNumber)\n",
        "    print(f\"Employee data for {employee_number}: {employee_data_by_number}\")\n",
        "    result = []\n",
        "\n",
        "    for item in employee_data_by_number['items']:\n",
        "        employee_dict = {}\n",
        "        if 'name' in item:\n",
        "            employee_dict['name'] = item['name']\n",
        "        if 'date_of_birth' in item:\n",
        "            employee_dict['month'] = item['date_of_birth']['month']\n",
        "            employee_dict['year'] = item['date_of_birth']['year']\n",
        "        result.append(employee_dict)\n",
        "\n",
        "    df = pd.DataFrame(result)\n",
        "\n",
        "    print(df)"
      ]
    },
    {
      "cell_type": "code",
      "source": [],
      "metadata": {
        "id": "8cQ5CD18viBz"
      },
      "execution_count": null,
      "outputs": []
    }
  ]
}